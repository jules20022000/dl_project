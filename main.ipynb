{
 "cells": [
  {
   "cell_type": "markdown",
   "metadata": {},
   "source": [
    "# Voice-Driven Disease Classification: A Deep Learning Approach\n"
   ]
  },
  {
   "cell_type": "code",
   "execution_count": 1,
   "metadata": {},
   "outputs": [],
   "source": [
    "import pandas as pd\n",
    "\n",
    "import torch\n",
    "import torch.nn as nn\n",
    "import torch.optim as optim\n",
    "import torchaudio\n",
    "from torch.utils.data import TensorDataset, DataLoader\n",
    "\n",
    "\n",
    "import os\n",
    "from tqdm import tqdm\n",
    "import IPython.display as ipd\n",
    "\n",
    "\n",
    "import matplotlib.pyplot as plt\n",
    "import seaborn as sns\n",
    "import altair as alt\n",
    "\n",
    "\n",
    "from model.classifier import Classifier\n",
    "from model.conv_net import M5\n",
    "from transformers import BertModel, BertTokenizer\n",
    "\n",
    "%load_ext autoreload\n",
    "%autoreload 2"
   ]
  },
  {
   "cell_type": "code",
   "execution_count": 2,
   "metadata": {},
   "outputs": [
    {
     "name": "stdout",
     "output_type": "stream",
     "text": [
      "Number of recordings:  6661\n",
      "Number of features:  13\n"
     ]
    }
   ],
   "source": [
    "record_df = pd.read_csv(\"./data/overview-of-recordings.csv\")\n",
    "\n",
    "# print the number of recordings\n",
    "print(\"Number of recordings: \", len(record_df))\n",
    "print(\"Number of features: \", len(record_df.columns))"
   ]
  },
  {
   "cell_type": "code",
   "execution_count": 3,
   "metadata": {},
   "outputs": [
    {
     "name": "stdout",
     "output_type": "stream",
     "text": [
      "Number of training samples:  381\n",
      "Number of validation samples:  385\n",
      "Number of test samples:  5895\n",
      "Total number of samples:  6661\n"
     ]
    }
   ],
   "source": [
    "# check if we have the same number of audio files (.wav) as we have rows in the dataframe\n",
    "data_dir = \"./data/recordings\"\n",
    "nb_training_samples = len(os.listdir(os.path.join(data_dir, \"train\")))\n",
    "nb_validation_samples = len(os.listdir(os.path.join(data_dir, \"validate\")))\n",
    "nb_test_samples = len(os.listdir(os.path.join(data_dir, \"test\")))\n",
    "print(\"Number of training samples: \", nb_training_samples)\n",
    "print(\"Number of validation samples: \", nb_validation_samples)\n",
    "print(\"Number of test samples: \", nb_test_samples)\n",
    "print(\"Total number of samples: \", nb_training_samples + nb_test_samples + nb_validation_samples)\n"
   ]
  },
  {
   "cell_type": "markdown",
   "metadata": {},
   "source": [
    "### Add a column to indicate if the record is in the training set, validation set, or test set \n"
   ]
  },
  {
   "cell_type": "code",
   "execution_count": 4,
   "metadata": {},
   "outputs": [
    {
     "name": "stdout",
     "output_type": "stream",
     "text": [
      "Number of training samples:  381\n",
      "Number of validation samples:  385\n",
      "Number of test samples:  5895\n"
     ]
    },
    {
     "data": {
      "text/html": [
       "<div>\n",
       "<style scoped>\n",
       "    .dataframe tbody tr th:only-of-type {\n",
       "        vertical-align: middle;\n",
       "    }\n",
       "\n",
       "    .dataframe tbody tr th {\n",
       "        vertical-align: top;\n",
       "    }\n",
       "\n",
       "    .dataframe thead th {\n",
       "        text-align: right;\n",
       "    }\n",
       "</style>\n",
       "<table border=\"1\" class=\"dataframe\">\n",
       "  <thead>\n",
       "    <tr style=\"text-align: right;\">\n",
       "      <th></th>\n",
       "      <th>audio_clipping</th>\n",
       "      <th>audio_clipping:confidence</th>\n",
       "      <th>background_noise_audible</th>\n",
       "      <th>background_noise_audible:confidence</th>\n",
       "      <th>overall_quality_of_the_audio</th>\n",
       "      <th>quiet_speaker</th>\n",
       "      <th>quiet_speaker:confidence</th>\n",
       "      <th>speaker_id</th>\n",
       "      <th>file_download</th>\n",
       "      <th>file_name</th>\n",
       "      <th>phrase</th>\n",
       "      <th>prompt</th>\n",
       "      <th>writer_id</th>\n",
       "      <th>split</th>\n",
       "    </tr>\n",
       "  </thead>\n",
       "  <tbody>\n",
       "    <tr>\n",
       "      <th>0</th>\n",
       "      <td>no_clipping</td>\n",
       "      <td>1.0000</td>\n",
       "      <td>light_noise</td>\n",
       "      <td>1.0000</td>\n",
       "      <td>3.33</td>\n",
       "      <td>audible_speaker</td>\n",
       "      <td>1.0</td>\n",
       "      <td>43453425</td>\n",
       "      <td>https://ml.sandbox.cf3.us/cgi-bin/index.cgi?do...</td>\n",
       "      <td>1249120_43453425_58166571.wav</td>\n",
       "      <td>When I remember her I feel down</td>\n",
       "      <td>Emotional pain</td>\n",
       "      <td>21665495</td>\n",
       "      <td>test</td>\n",
       "    </tr>\n",
       "    <tr>\n",
       "      <th>1</th>\n",
       "      <td>light_clipping</td>\n",
       "      <td>0.6803</td>\n",
       "      <td>no_noise</td>\n",
       "      <td>0.6803</td>\n",
       "      <td>3.33</td>\n",
       "      <td>audible_speaker</td>\n",
       "      <td>1.0</td>\n",
       "      <td>43719934</td>\n",
       "      <td>https://ml.sandbox.cf3.us/cgi-bin/index.cgi?do...</td>\n",
       "      <td>1249120_43719934_43347848.wav</td>\n",
       "      <td>When I carry heavy things I feel like breaking...</td>\n",
       "      <td>Hair falling out</td>\n",
       "      <td>44088126</td>\n",
       "      <td>test</td>\n",
       "    </tr>\n",
       "  </tbody>\n",
       "</table>\n",
       "</div>"
      ],
      "text/plain": [
       "   audio_clipping  audio_clipping:confidence background_noise_audible  \\\n",
       "0     no_clipping                     1.0000              light_noise   \n",
       "1  light_clipping                     0.6803                 no_noise   \n",
       "\n",
       "   background_noise_audible:confidence  overall_quality_of_the_audio  \\\n",
       "0                               1.0000                          3.33   \n",
       "1                               0.6803                          3.33   \n",
       "\n",
       "     quiet_speaker  quiet_speaker:confidence  speaker_id  \\\n",
       "0  audible_speaker                       1.0    43453425   \n",
       "1  audible_speaker                       1.0    43719934   \n",
       "\n",
       "                                       file_download  \\\n",
       "0  https://ml.sandbox.cf3.us/cgi-bin/index.cgi?do...   \n",
       "1  https://ml.sandbox.cf3.us/cgi-bin/index.cgi?do...   \n",
       "\n",
       "                       file_name  \\\n",
       "0  1249120_43453425_58166571.wav   \n",
       "1  1249120_43719934_43347848.wav   \n",
       "\n",
       "                                              phrase            prompt  \\\n",
       "0                    When I remember her I feel down    Emotional pain   \n",
       "1  When I carry heavy things I feel like breaking...  Hair falling out   \n",
       "\n",
       "   writer_id split  \n",
       "0   21665495  test  \n",
       "1   44088126  test  "
      ]
     },
     "execution_count": 4,
     "metadata": {},
     "output_type": "execute_result"
    }
   ],
   "source": [
    "train_files = set(os.listdir(os.path.join(data_dir, \"train\")))\n",
    "valid_files = set(os.listdir(os.path.join(data_dir, \"validate\")))\n",
    "test_files = set(os.listdir(os.path.join(data_dir, \"test\")))\n",
    "\n",
    "record_df[\"split\"] = record_df[\"file_name\"].apply(lambda x: \"train\" if x in train_files else (\"validate\" if x in valid_files else \"test\"))\n",
    "\n",
    "# check if the numbers corresponds to the previous numbers\n",
    "print(\"Number of training samples: \", len(record_df[record_df.split == \"train\"]))\n",
    "print(\"Number of validation samples: \", len(record_df[record_df.split == \"validate\"]))\n",
    "print(\"Number of test samples: \", len(record_df[record_df.split == \"test\"]))\n",
    "\n",
    "record_df.head(2)"
   ]
  },
  {
   "cell_type": "code",
   "execution_count": 5,
   "metadata": {},
   "outputs": [
    {
     "data": {
      "image/png": "[encoded data removed]",
      "text/plain": [
       "<Figure size 1500x500 with 3 Axes>"
      ]
     },
     "metadata": {},
     "output_type": "display_data"
    }
   ],
   "source": [
    "# Filter data for each split\n",
    "train_df = record_df[record_df['split'] == 'train']\n",
    "valid_df = record_df[record_df['split'] == 'validate']\n",
    "test_df = record_df[record_df['split'] == 'test']\n",
    "\n",
    "# Create Seaborn count plot\n",
    "def create_count_plot(ax, df, title, color):\n",
    "    sns.countplot(y='prompt', data=df, color=color, ax=ax)\n",
    "    ax.set_title(title)\n",
    "    ax.set_xlabel('Count')\n",
    "    ax.set_ylabel('Prompt')\n",
    "\n",
    "# Create subplots\n",
    "fig, axes = plt.subplots(1, 3, figsize=(15, 5))  # Adjust the figure size as needed\n",
    "\n",
    "# Combine the count plots on the same row\n",
    "create_count_plot(axes[0], train_df, 'Training Set', 'blue')\n",
    "create_count_plot(axes[1], valid_df, 'Validation Set', 'green')\n",
    "create_count_plot(axes[2], test_df, 'Test Set', 'red')\n",
    "\n",
    "plt.tight_layout()  # Adjust layout for better spacing\n",
    "plt.show()\n"
   ]
  },
  {
   "cell_type": "code",
   "execution_count": 6,
   "metadata": {},
   "outputs": [
    {
     "data": {
      "text/plain": [
       "{'Emotional pain': 0,\n",
       " 'Hair falling out': 1,\n",
       " 'Heart hurts': 2,\n",
       " 'Infected wound': 3,\n",
       " 'Foot ache': 4,\n",
       " 'Shoulder pain': 5,\n",
       " 'Injury from sports': 6,\n",
       " 'Skin issue': 7,\n",
       " 'Stomach ache': 8,\n",
       " 'Knee pain': 9,\n",
       " 'Joint pain': 10,\n",
       " 'Hard to breath': 11,\n",
       " 'Head ache': 12,\n",
       " 'Body feels weak': 13,\n",
       " 'Feeling dizzy': 14,\n",
       " 'Back pain': 15,\n",
       " 'Open wound': 16,\n",
       " 'Internal pain': 17,\n",
       " 'Blurry vision': 18,\n",
       " 'Acne': 19,\n",
       " 'Muscle pain': 20,\n",
       " 'Neck pain': 21,\n",
       " 'Cough': 22,\n",
       " 'Ear ache': 23,\n",
       " 'Feeling cold': 24}"
      ]
     },
     "execution_count": 6,
     "metadata": {},
     "output_type": "execute_result"
    }
   ],
   "source": [
    "# create dictionnary to map each prompt to a number\n",
    "prompt_to_id = {prompt: i for i, prompt in enumerate(record_df.prompt.unique())}\n",
    "prompt_to_id"
   ]
  },
  {
   "cell_type": "markdown",
   "metadata": {},
   "source": [
    "### Get the audio data with the metadata\n"
   ]
  },
  {
   "cell_type": "markdown",
   "metadata": {},
   "source": [
    "### Keep the records with audio quality >= 3.5\n"
   ]
  },
  {
   "cell_type": "code",
   "execution_count": 7,
   "metadata": {},
   "outputs": [
    {
     "name": "stdout",
     "output_type": "stream",
     "text": [
      "Number of training samples:  269\n",
      "Number of validation samples:  192\n",
      "Number of test samples:  4018\n"
     ]
    }
   ],
   "source": [
    "clean_audio_df = record_df[record_df.overall_quality_of_the_audio >= 3.5]\n",
    "\n",
    "print(\"Number of training samples: \", len(clean_audio_df[clean_audio_df.split == \"train\"]))\n",
    "print(\"Number of validation samples: \", len(clean_audio_df[clean_audio_df.split == \"validate\"]))\n",
    "print(\"Number of test samples: \", len(clean_audio_df[clean_audio_df.split == \"test\"]))"
   ]
  },
  {
   "cell_type": "markdown",
   "metadata": {},
   "source": [
    "### First idea : analyze the waveform\n"
   ]
  },
  {
   "cell_type": "markdown",
   "metadata": {},
   "source": [
    "The waveforms has 2 channels (left and right). We can only both or use the mean of both channels. \n"
   ]
  },
  {
   "cell_type": "markdown",
   "metadata": {},
   "source": [
    "Let's use the mean for convenience to start \n"
   ]
  },
  {
   "cell_type": "code",
   "execution_count": 8,
   "metadata": {},
   "outputs": [],
   "source": [
    "\n",
    "def process_audio_files(data_path, new_sample_rate=8000):\n",
    "    waveforms = []\n",
    "    labels = []\n",
    "\n",
    "    for file in tqdm(os.listdir(data_path)):\n",
    "        prompt = clean_audio_df[clean_audio_df[\"file_name\"] == file].prompt\n",
    "        # check if the prompt is empty (if yes it means that the file is not in the clean_audio_df dataframe)\n",
    "        if prompt.shape[0] == 0:\n",
    "            continue\n",
    "\n",
    "        label = prompt_to_id[prompt.values[0]]\n",
    "        waveform, sample_rate = torchaudio.load(os.path.join(data_path, file))\n",
    "        mean_waveform = torch.mean(waveform, dim=0, keepdim=True)\n",
    "\n",
    "        transform = torchaudio.transforms.Resample(orig_freq=sample_rate, new_freq=new_sample_rate)\n",
    "        transformed = transform(mean_waveform).squeeze(0)\n",
    "\n",
    "        waveforms.append(transformed)\n",
    "        labels.append(label)\n",
    "\n",
    "    # pad the waveforms to have the same length\n",
    "    padded_waveforms = nn.utils.rnn.pad_sequence(waveforms, batch_first=True)\n",
    "    tensor_labels = torch.tensor(labels)\n",
    "\n",
    "    return padded_waveforms, tensor_labels"
   ]
  },
  {
   "cell_type": "code",
   "execution_count": 9,
   "metadata": {},
   "outputs": [
    {
     "name": "stderr",
     "output_type": "stream",
     "text": [
      "100%|██████████| 381/381 [00:02<00:00, 164.37it/s]\n",
      "100%|██████████| 385/385 [00:01<00:00, 261.69it/s]\n",
      "100%|██████████| 5895/5895 [00:33<00:00, 175.09it/s]\n"
     ]
    }
   ],
   "source": [
    "record_path = \"./data/recordings\"\n",
    "\n",
    "train_waveforms, train_labels = process_audio_files(os.path.join(record_path, \"train\"))\n",
    "valid_waveforms, valid_labels = process_audio_files(os.path.join(record_path, \"validate\"))\n",
    "test_waveforms, test_labels = process_audio_files(os.path.join(record_path, \"test\"))\n",
    "\n",
    "# create DataLoader\n",
    "train_dataset = TensorDataset(train_waveforms, train_labels)\n",
    "valid_dataset = TensorDataset(valid_waveforms, valid_labels)\n",
    "test_dataset = TensorDataset(test_waveforms, test_labels)\n",
    "\n",
    "batch_size = 64\n",
    "\n",
    "train_dataloader = DataLoader(train_dataset, batch_size=batch_size, shuffle=True)\n",
    "valid_dataloader = DataLoader(valid_dataset, batch_size=batch_size, shuffle=True)\n",
    "test_dataloader = DataLoader(test_dataset, batch_size=batch_size, shuffle=True)\n"
   ]
  },
  {
   "cell_type": "code",
   "execution_count": 13,
   "metadata": {},
   "outputs": [
    {
     "name": "stdout",
     "output_type": "stream",
     "text": [
      "Epoch 1 - Training loss: 3.278 - Validation loss: 3.252 - Validation acc: 2.604 %\n",
      "Epoch 2 - Training loss: 3.267 - Validation loss: 3.303 - Validation acc: 4.167 %\n",
      "Epoch 3 - Training loss: 3.259 - Validation loss: 3.298 - Validation acc: 4.167 %\n",
      "Epoch 4 - Training loss: 3.253 - Validation loss: 3.291 - Validation acc: 5.208 %\n",
      "Epoch 5 - Training loss: 3.247 - Validation loss: 3.286 - Validation acc: 5.208 %\n",
      "Epoch 6 - Training loss: 3.242 - Validation loss: 3.278 - Validation acc: 5.208 %\n",
      "Epoch 7 - Training loss: 3.238 - Validation loss: 3.269 - Validation acc: 4.688 %\n",
      "Epoch 8 - Training loss: 3.235 - Validation loss: 3.265 - Validation acc: 5.208 %\n",
      "Epoch 9 - Training loss: 3.232 - Validation loss: 3.266 - Validation acc: 5.729 %\n",
      "Epoch 10 - Training loss: 3.228 - Validation loss: 3.267 - Validation acc: 5.729 %\n",
      "Epoch 11 - Training loss: 3.227 - Validation loss: 3.260 - Validation acc: 5.208 %\n",
      "Epoch 12 - Training loss: 3.225 - Validation loss: 3.262 - Validation acc: 5.729 %\n",
      "Epoch 13 - Training loss: 3.222 - Validation loss: 3.260 - Validation acc: 5.208 %\n",
      "Epoch 14 - Training loss: 3.221 - Validation loss: 3.263 - Validation acc: 5.208 %\n",
      "Epoch 15 - Training loss: 3.219 - Validation loss: 3.258 - Validation acc: 4.688 %\n",
      "Epoch 16 - Training loss: 3.218 - Validation loss: 3.258 - Validation acc: 4.688 %\n",
      "Epoch 17 - Training loss: 3.216 - Validation loss: 3.261 - Validation acc: 4.688 %\n",
      "Epoch 18 - Training loss: 3.215 - Validation loss: 3.263 - Validation acc: 4.688 %\n",
      "Epoch 19 - Training loss: 3.214 - Validation loss: 3.261 - Validation acc: 4.688 %\n",
      "Epoch 20 - Training loss: 3.213 - Validation loss: 3.265 - Validation acc: 5.208 %\n",
      "Epoch 21 - Training loss: 3.212 - Validation loss: 3.262 - Validation acc: 5.208 %\n",
      "Epoch 22 - Training loss: 3.212 - Validation loss: 3.261 - Validation acc: 4.688 %\n",
      "Epoch 23 - Training loss: 3.209 - Validation loss: 3.257 - Validation acc: 5.208 %\n",
      "Epoch 24 - Training loss: 3.209 - Validation loss: 3.259 - Validation acc: 4.688 %\n",
      "Epoch 25 - Training loss: 3.208 - Validation loss: 3.262 - Validation acc: 4.688 %\n",
      "Epoch 26 - Training loss: 3.206 - Validation loss: 3.260 - Validation acc: 5.208 %\n",
      "Epoch 27 - Training loss: 3.206 - Validation loss: 3.267 - Validation acc: 5.208 %\n",
      "Epoch 28 - Training loss: 3.206 - Validation loss: 3.262 - Validation acc: 5.208 %\n",
      "Epoch 29 - Training loss: 3.205 - Validation loss: 3.259 - Validation acc: 4.688 %\n",
      "Epoch 30 - Training loss: 3.204 - Validation loss: 3.261 - Validation acc: 5.208 %\n",
      "Epoch 31 - Training loss: 3.203 - Validation loss: 3.261 - Validation acc: 5.208 %\n",
      "Epoch 32 - Training loss: 3.203 - Validation loss: 3.261 - Validation acc: 5.208 %\n",
      "Epoch 33 - Training loss: 3.202 - Validation loss: 3.263 - Validation acc: 5.208 %\n",
      "Epoch 34 - Training loss: 3.201 - Validation loss: 3.261 - Validation acc: 5.208 %\n",
      "Epoch 35 - Training loss: 3.200 - Validation loss: 3.262 - Validation acc: 6.250 %\n",
      "Epoch 36 - Training loss: 3.200 - Validation loss: 3.263 - Validation acc: 5.729 %\n",
      "Epoch 37 - Training loss: 3.199 - Validation loss: 3.261 - Validation acc: 6.771 %\n",
      "Epoch 38 - Training loss: 3.198 - Validation loss: 3.258 - Validation acc: 5.208 %\n",
      "Epoch 39 - Training loss: 3.198 - Validation loss: 3.262 - Validation acc: 5.208 %\n",
      "Epoch 40 - Training loss: 3.197 - Validation loss: 3.263 - Validation acc: 5.208 %\n",
      "Epoch 41 - Training loss: 3.197 - Validation loss: 3.267 - Validation acc: 5.208 %\n",
      "Epoch 42 - Training loss: 3.196 - Validation loss: 3.262 - Validation acc: 6.250 %\n",
      "Epoch 43 - Training loss: 3.196 - Validation loss: 3.262 - Validation acc: 6.250 %\n",
      "Epoch 44 - Training loss: 3.194 - Validation loss: 3.264 - Validation acc: 6.250 %\n",
      "Epoch 45 - Training loss: 3.194 - Validation loss: 3.266 - Validation acc: 6.771 %\n",
      "Epoch 46 - Training loss: 3.194 - Validation loss: 3.257 - Validation acc: 6.771 %\n",
      "Epoch 47 - Training loss: 3.192 - Validation loss: 3.266 - Validation acc: 6.771 %\n",
      "Epoch 48 - Training loss: 3.192 - Validation loss: 3.264 - Validation acc: 7.292 %\n",
      "Epoch 49 - Training loss: 3.192 - Validation loss: 3.269 - Validation acc: 6.771 %\n",
      "Epoch 50 - Training loss: 3.192 - Validation loss: 3.266 - Validation acc: 7.292 %\n",
      "Finished Training\n"
     ]
    }
   ],
   "source": [
    "\n",
    "device = torch.device(\"cuda:0\" if torch.cuda.is_available() else \"cpu\")\n",
    "cnn_model = M5(n_input=1, n_output=len(prompt_to_id)).to(device)\n",
    "\n",
    "# define the loss function and the optimizer\n",
    "criterion = nn.CrossEntropyLoss()\n",
    "optimizer = optim.Adam(cnn_model.parameters(), lr=0.00001)\n",
    "\n",
    "# train the model\n",
    "cnn_model.train()\n",
    "epochs = 50\n",
    "\n",
    "train_losses = []\n",
    "valid_losses = []\n",
    "for epoch in range(epochs):\n",
    "    running_loss = 0.0\n",
    "    # !! Note : Again we use the test to train \n",
    "    for i, data in enumerate(test_dataloader):\n",
    "        inputs, labels = data\n",
    "        inputs, labels = inputs.to(device), labels.to(device)\n",
    "        inputs = inputs.unsqueeze(1)\n",
    "        \n",
    "        optimizer.zero_grad()\n",
    "\n",
    "        outputs = cnn_model(inputs).squeeze(1)\n",
    "        loss = criterion(outputs, labels)\n",
    "        loss.backward()\n",
    "        optimizer.step()\n",
    "\n",
    "        running_loss += loss.item()\n",
    "    \n",
    "    train_losses.append(running_loss / len(test_dataloader))\n",
    "    \n",
    "    # evaluate the model\n",
    "    cnn_model.eval()\n",
    "    running_loss = 0.0\n",
    "    correct = 0\n",
    "    total_samples = 0\n",
    "    for i, data in enumerate(valid_dataloader, 0):\n",
    "        inputs, labels = data\n",
    "        inputs, labels = inputs.to(device), labels.to(device)\n",
    "        inputs = inputs.unsqueeze(1)\n",
    "\n",
    "        outputs = cnn_model(inputs)\n",
    "        outputs = outputs.squeeze(1)\n",
    "        predictions = torch.argmax(outputs, dim=1)\n",
    "        loss = criterion(outputs, labels)\n",
    "\n",
    "        running_loss += loss.item()\n",
    "        \n",
    "        # calculate the accuracy\n",
    "        correct += (predictions == labels).sum().item()\n",
    "        total_samples += labels.size(0)\n",
    "        \n",
    "    valid_losses.append(running_loss / len(valid_dataloader))\n",
    "    acc = correct / total_samples\n",
    "    cnn_model.train()\n",
    "    \n",
    "    print(f\"Epoch {epoch+1} - Training loss: {train_losses[-1]:.3f} - Validation loss: {valid_losses[-1]:.3f} - Validation acc: {acc*100:.3f} %\")\n",
    "\n",
    "print('Finished Training')"
   ]
  },
  {
   "cell_type": "code",
   "execution_count": 32,
   "metadata": {},
   "outputs": [
    {
     "name": "stdout",
     "output_type": "stream",
     "text": [
      "3\n"
     ]
    }
   ],
   "source": [
    "for i, data in enumerate(train_dataloader):\n",
    "        inputs, labels = data\n",
    "        inputs, labels = inputs.to(device), labels.to(device)\n",
    "        inputs = inputs.unsqueeze(1)\n",
    "        \n",
    "\n",
    "        outputs = cnn_model(inputs)\n",
    "        outputs = outputs.squeeze(1)\n",
    "        predictions = torch.argmax(outputs, dim=1)\n",
    "        \n",
    "        # print the predicted and true labels for the first batch\n",
    "        print((predictions == labels).sum().item())\n",
    "        break"
   ]
  },
  {
   "cell_type": "code",
   "execution_count": null,
   "metadata": {},
   "outputs": [],
   "source": []
  },
  {
   "cell_type": "markdown",
   "metadata": {},
   "source": [
    "### Second idea : Use the phrase from the metadata\n"
   ]
  },
  {
   "cell_type": "markdown",
   "metadata": {},
   "source": [
    "Use a pre trained transformer model to get the embeddings of the phrase \n"
   ]
  },
  {
   "cell_type": "markdown",
   "metadata": {},
   "source": [
    "Create and save the embeddings for the phrases in the metadata\n"
   ]
  },
  {
   "cell_type": "code",
   "execution_count": null,
   "metadata": {},
   "outputs": [],
   "source": [
    "save_path_embedd = \"./data/embeddings\"\n",
    "tokenizer = BertTokenizer.from_pretrained('bert-large-uncased')\n",
    "model = BertModel.from_pretrained('bert-large-uncased')"
   ]
  },
  {
   "cell_type": "code",
   "execution_count": null,
   "metadata": {},
   "outputs": [],
   "source": [
    "for idx, row in tqdm(record_df.iterrows(), total=len(record_df)):\n",
    "    # save path for the embedding\n",
    "    save_path = os.path.join(save_path_embedd, row.split, row.file_name.replace(\".wav\", \".pt\"))\n",
    "    sentence = row.phrase\n",
    "    tokenized_text = tokenizer.tokenize(sentence)\n",
    "    indexed_tokens = tokenizer.convert_tokens_to_ids(tokenized_text)\n",
    "    segments_ids = [1] * len(tokenized_text)\n",
    "\n",
    "    tokens_tensor = torch.tensor([indexed_tokens])\n",
    "    segments_tensors = torch.tensor([segments_ids])\n",
    "\n",
    "    model.eval()\n",
    "    # Get hidden states\n",
    "    with torch.no_grad():\n",
    "        outputs = model(tokens_tensor, segments_tensors)\n",
    "        hidden_states = outputs.last_hidden_state\n",
    "\n",
    "    # take the mean of the embeddings over the whole sentence\n",
    "    sentence_embedding = torch.mean(hidden_states[0], dim=0)\n",
    "    \n",
    "    # !! NOTE: we add the label at the end of the embedding (hence 768 for the embedding size and 1 for the label)\n",
    "    sentence_embedding_with_label = torch.cat((sentence_embedding, torch.tensor([prompt_to_id[row.prompt]])))\n",
    "    \n",
    "    # save the embedding\n",
    "    torch.save(sentence_embedding_with_label, save_path)"
   ]
  },
  {
   "cell_type": "code",
   "execution_count": null,
   "metadata": {},
   "outputs": [],
   "source": [
    "def load_embeddings(path):\n",
    "    embeddings_list = []\n",
    "    labels_list = []\n",
    "    for file in tqdm(os.listdir(path)):\n",
    "        embedding_with_label = torch.load(os.path.join(path, file))\n",
    "        embedding = embedding_with_label[:-1]\n",
    "        label = embedding_with_label[-1]\n",
    "        embeddings_list.append(embedding)\n",
    "        labels_list.append(label)\n",
    "    return torch.stack(embeddings_list), torch.stack(labels_list)\n",
    "\n",
    "train_embeddings, train_labels = load_embeddings(os.path.join(save_path_embedd, \"train\"))\n",
    "valid_embeddings, valid_labels = load_embeddings(os.path.join(save_path_embedd, \"validate\"))\n",
    "test_embeddings, test_labels = load_embeddings(os.path.join(save_path_embedd, \"test\"))\n",
    "print(\"Train embeddings shape: \", train_embeddings.shape, \"Train labels shape: \", train_labels.shape)\n",
    "print(\"Valid embeddings shape: \", valid_embeddings.shape, \"Valid labels shape: \", valid_labels.shape)\n",
    "print(\"Test embeddings shape: \", test_embeddings.shape, \"Test labels shape: \", test_labels.shape)"
   ]
  },
  {
   "cell_type": "code",
   "execution_count": null,
   "metadata": {},
   "outputs": [],
   "source": [
    "device = torch.device(\"cuda\" if torch.cuda.is_available() else \"cpu\")\n",
    "classifier = Classifier(train_embeddings.shape[1], len(prompt_to_id)).to(device)\t\n",
    "\n",
    "# Loss and optimizer\n",
    "criterion = nn.CrossEntropyLoss()\n",
    "optimizer = optim.Adam(classifier.parameters(), lr=0.0001)\n",
    "\n",
    "# Training loop\n",
    "num_epochs = 5000\n",
    "train_losses = []\n",
    "valid_losses = []\n",
    "\n",
    "# !! NOTE : use the validation and train set to evaluate the model\n",
    "valid_embeddings = torch.cat((valid_embeddings, train_embeddings))\n",
    "valid_labels = torch.cat((valid_labels, train_labels))\n",
    "\n",
    "for epoch in range(num_epochs):\n",
    "    # Training\n",
    "    classifier.train()\n",
    "    # !! NOTE: In this case, we use the test set as training set since it is bigger  \n",
    "    inputs, targets = test_embeddings.to(device), test_labels.to(device, dtype=torch.long)\n",
    "    outputs = classifier(inputs)\n",
    "    loss = criterion(outputs, targets)\n",
    "    optimizer.zero_grad()\n",
    "    loss.backward()\n",
    "    optimizer.step()\n",
    "    train_loss = loss.item()\n",
    "    train_losses.append(train_loss)\n",
    "\n",
    "    classifier.eval()\n",
    "    with torch.no_grad():\n",
    "        inputs, targets = valid_embeddings.to(device), valid_labels.to(device, dtype=torch.long)\n",
    "        outputs = classifier(inputs)\n",
    "        loss = criterion(outputs, targets)\n",
    "        valid_loss = loss.item()\n",
    "        valid_losses.append(valid_loss)\n",
    "        accuracy = torch.mean((torch.argmax(outputs, dim=1) == targets).float())\n",
    "\n",
    "    if epoch % 50 == 0:\n",
    "        print(\"Epoch:\", \"%04d\" % (epoch + 1), \"train cost =\", \"{:.6f}\".format(train_loss), \"valid cost =\", \"{:.6f}\".format(valid_loss), \"valid accuracy =\", \"{:.2f}\".format(accuracy * 100.0))\n",
    "\n",
    "# Plot the train and validation losses\n",
    "plt.plot(train_losses, label='Train loss')\n",
    "plt.plot(valid_losses, label='Valid loss')\n",
    "plt.legend()\n",
    "plt.show()"
   ]
  },
  {
   "cell_type": "code",
   "execution_count": null,
   "metadata": {},
   "outputs": [],
   "source": [
    "# create confusion matrix for the valid set\n",
    "classifier.eval()\n",
    "with torch.no_grad():\n",
    "    inputs, targets = valid_embeddings.to(device), valid_labels.to(device, dtype=torch.long)\n",
    "    outputs = classifier(inputs)\n",
    "    predictions = torch.argmax(outputs, dim=1)\n",
    "    accuracy = torch.mean((predictions == targets).float())\n",
    "    print(\"Test accuracy: \", accuracy.item())\n",
    "\n",
    "    # Create confusion matrix\n",
    "    confusion_matrix = torch.zeros(len(prompt_to_id), len(prompt_to_id))\n",
    "    for t, p in zip(targets, predictions):\n",
    "        confusion_matrix[t, p] += 1\n",
    "\n",
    "    # Normalize confusion matrix\n",
    "    confusion_matrix = confusion_matrix / confusion_matrix.sum(dim=1, keepdim=True)\n",
    "\n",
    "    # Create a figure\n",
    "    plt.figure(figsize=(5, 5))\n",
    "    # Show confusion matrix\n",
    "    plt.imshow(confusion_matrix, cmap='Blues')\n",
    "    plt.xticks(range(len(prompt_to_id)), prompt_to_id.keys(), rotation=90)\n",
    "    plt.yticks(range(len(prompt_to_id)), prompt_to_id.keys())\n",
    "    plt.xlabel('Predicted label')\n",
    "    plt.ylabel('True label')\n",
    "    plt.colorbar()\n",
    "\n",
    "    # Add text annotations for non-zero misclassified data\n",
    "    for i in range(len(prompt_to_id)):\n",
    "        for j in range(len(prompt_to_id)):\n",
    "            value = confusion_matrix[i, j]\n",
    "            if value != 0:\n",
    "                text = plt.text(j, i, f'{value:.2f}', ha='center', va='center', color='green')\n",
    "                # Highlight misclassified data\n",
    "                if i != j:\n",
    "                    text.set_color(\"red\")\n",
    "                    text.set_weight('bold')\n",
    "\n",
    "    plt.show()"
   ]
  },
  {
   "cell_type": "code",
   "execution_count": null,
   "metadata": {},
   "outputs": [],
   "source": [
    "# test the model using sentences generated by ChatGPT\n",
    "sentences = [\"I have headache\"]\n",
    "acc = 0 \n",
    "labels = prompt_to_id.values()\n",
    "for sentence, label in zip(sentences, labels):\n",
    "    tokenized_text = tokenizer.tokenize(sentence)\n",
    "    indexed_tokens = tokenizer.convert_tokens_to_ids(tokenized_text)\n",
    "    segments_ids = [1] * len(tokenized_text)\n",
    "\n",
    "    tokens_tensor = torch.tensor([indexed_tokens])\n",
    "    segments_tensors = torch.tensor([segments_ids])\n",
    "\n",
    "    model.eval()\n",
    "    # Get hidden states\n",
    "    with torch.no_grad():\n",
    "        outputs = model(tokens_tensor, segments_tensors)\n",
    "        hidden_states = outputs.last_hidden_state\n",
    "\n",
    "    # take the mean of the embeddings over the whole sentence\n",
    "    sentence_embedding = torch.mean(hidden_states[0], dim=0)\n",
    "\n",
    "    # classify the sentence\n",
    "    classifier.eval()\n",
    "    with torch.no_grad():\n",
    "        inputs = sentence_embedding.to(device)\n",
    "        inputs = inputs.unsqueeze(0)\n",
    "        outputs = classifier(inputs)\n",
    "        prediction = torch.argmax(outputs, dim=1)\n",
    "        predicted_prompt = list(prompt_to_id.keys())[prediction.item()]\n",
    "     \n",
    "    # print(\"Label: \", label)\n",
    "    print(\"Predicted prompt: \", predicted_prompt)\n",
    "    print(\"--------------------------------------------------\")\n",
    "    print(\"\\n\")\n",
    "    # acc += label == predicted_prompt\n",
    "    \n",
    "# print(\"Accuracy: \", acc / len(sentences), \" %\")"
   ]
  },
  {
   "cell_type": "markdown",
   "metadata": {},
   "source": [
    "### Compare both \n"
   ]
  },
  {
   "cell_type": "code",
   "execution_count": null,
   "metadata": {},
   "outputs": [],
   "source": []
  },
  {
   "cell_type": "markdown",
   "metadata": {},
   "source": [
    "### Use a combination of both\n"
   ]
  },
  {
   "cell_type": "markdown",
   "metadata": {},
   "source": []
  }
 ],
 "metadata": {
  "kernelspec": {
   "display_name": "bio",
   "language": "python",
   "name": "python3"
  },
  "language_info": {
   "codemirror_mode": {
    "name": "ipython",
    "version": 3
   },
   "file_extension": ".py",
   "mimetype": "text/x-python",
   "name": "python",
   "nbconvert_exporter": "python",
   "pygments_lexer": "ipython3",
   "version": "3.10.13"
  }
 },
 "nbformat": 4,
 "nbformat_minor": 2
}
