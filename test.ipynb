{
 "cells": [
  {
   "cell_type": "code",
   "execution_count": 4,
   "metadata": {},
   "outputs": [
    {
     "data": {
      "text/plain": [
       "tensor([[ 1,  2,  7,  3,  4],\n",
       "        [ 2,  4,  6,  8,  0],\n",
       "        [ 3,  6, 12,  0,  0]])"
      ]
     },
     "execution_count": 4,
     "metadata": {},
     "output_type": "execute_result"
    }
   ],
   "source": [
    "import torch\n",
    "import torch.nn as nn\n",
    "\n",
    "# create list of tensor\n",
    "x = torch.tensor([1, 2, 7, 3, 4])\n",
    "y = torch.tensor([2, 4, 6, 8])\n",
    "z = torch.tensor([3, 6, 12])\n",
    "list = [x, y, z]\n",
    "\n",
    "# pad sequence\n",
    "padded_sequence = nn.utils.rnn.pad_sequence(list, batch_first=True)\n",
    "padded_sequence"
   ]
  },
  {
   "cell_type": "code",
   "execution_count": null,
   "metadata": {},
   "outputs": [],
   "source": []
  }
 ],
 "metadata": {
  "kernelspec": {
   "display_name": "bio",
   "language": "python",
   "name": "python3"
  },
  "language_info": {
   "codemirror_mode": {
    "name": "ipython",
    "version": 3
   },
   "file_extension": ".py",
   "mimetype": "text/x-python",
   "name": "python",
   "nbconvert_exporter": "python",
   "pygments_lexer": "ipython3",
   "version": "3.10.13"
  }
 },
 "nbformat": 4,
 "nbformat_minor": 2
}
